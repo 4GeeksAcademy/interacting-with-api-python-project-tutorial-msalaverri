{
    "cells": [
        {
            "cell_type": "markdown",
            "metadata": {},
            "source": [
                "# Explore here"
            ]
        },
        {
            "cell_type": "code",
            "execution_count": 66,
            "metadata": {},
            "outputs": [
                {
                    "name": "stdout",
                    "output_type": "stream",
                    "text": [
                        "                                 name  popularity  duration_ms  \\\n",
                        "0  The Diary of Jane - Single Version          73       200546   \n",
                        "1                              Awaken          68       218002   \n",
                        "2                      I Will Not Bow          68       216733   \n",
                        "\n",
                        "               album_name release_date        artist_name  \n",
                        "0  Phobia (Clean Version)   2006-01-01  Breaking Benjamin  \n",
                        "1                  Awaken   2024-10-16  Breaking Benjamin  \n",
                        "2              Dear Agony   2009-01-01  Breaking Benjamin  \n"
                    ]
                }
            ],
            "source": [
                "import os\n",
                "import pandas as pd\n",
                "import seaborn as sns\n",
                "from dotenv import load_dotenv\n",
                "import spotipy as sp\n",
                "\n",
                "from spotipy.oauth2 import SpotifyClientCredentials\n",
                "\n",
                "# load the .env file variables\n",
                "load_dotenv()\n",
                "\n",
                "#Insert the info to work with it\n",
                "client_id = os.environ.get('CLIENT_ID')\n",
                "client_secret = os.environ.get('CLIENT_SECRET')\n",
                "\n",
                "breaking_benjamin_uri = 'spotify:artist:5BtHciL0e0zOP7prIHn3pP'\n",
                "client_credentials_manager = SpotifyClientCredentials(client_id, client_secret)\n",
                "spotify = spotipy.Spotify(client_credentials_manager=client_credentials_manager)\n",
                "\n",
                "\n",
                "results = spotify.artist_top_tracks('5BtHciL0e0zOP7prIHn3pP')\n",
                "\n",
                "#Create a function to convert milliseconds to minutes\n",
                "def mil_convert(milliseconds):\n",
                "   seconds, milliseconds = divmod(milliseconds, 1000)\n",
                "   minutes, seconds = divmod(seconds, 60)\n",
                "   return minutes, seconds\n",
                "\n",
                "# Pull the information using 'track' with the most played songs of the artist, keep the name of the song, the popularity and the duration (in minutes).\n",
                "for track in results['tracks']:\n",
                "    milliseconds = track['duration_ms']\n",
                "    minutes, seconds = mil_convert(milliseconds)\n",
                "   # print('track         : ' + track['name'])\n",
                "   # print('popularity    : ' + str(track['popularity']))\n",
                "   # print(f'duration      : {minutes}:{seconds:02d} minutes')\n",
                "   # print()\n",
                "\n",
                "#Convert it to a DataFrame\n",
                "track_list = []\n",
                "\n",
                "for track in results['tracks']:\n",
                "    track_info = {'name': track['name'], 'popularity': track['popularity'], 'duration_ms': track['duration_ms'], 'album_name': track['album']['name'], 'release_date': track['album']['release_date'], 'artist_name': track['artists'][0]['name']}\n",
                "    track_list.append(track_info)\n",
                "\n",
                "df = pd.DataFrame(track_list)\n",
                "\n",
                "#Sort by popularity\n",
                "df_sorted = df.sort_values(by='popularity', ascending=False)\n",
                "\n",
                "#Show top 3 songs\n",
                "top_3_songs = df_sorted.head(3)\n",
                "print(top_3_songs)"
            ]
        }
    ],
    "metadata": {
        "kernelspec": {
            "display_name": "Python 3",
            "language": "python",
            "name": "python3"
        },
        "language_info": {
            "codemirror_mode": {
                "name": "ipython",
                "version": 3
            },
            "file_extension": ".py",
            "mimetype": "text/x-python",
            "name": "python",
            "nbconvert_exporter": "python",
            "pygments_lexer": "ipython3",
            "version": "3.11.4"
        },
        "orig_nbformat": 4
    },
    "nbformat": 4,
    "nbformat_minor": 2
}
